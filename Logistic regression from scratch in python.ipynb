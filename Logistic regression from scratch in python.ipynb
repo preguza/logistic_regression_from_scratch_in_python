{
 "cells": [
  {
   "cell_type": "markdown",
   "id": "35368890-dba0-4f89-b5b5-4ef1315e93ef",
   "metadata": {},
   "source": [
    "# <b>Logistic regression from scratch in Python</b>"
   ]
  },
  {
   "cell_type": "markdown",
   "id": "a14dbb1b-7047-4f78-b20d-d55cb9fd79e3",
   "metadata": {},
   "source": [
    "This notebook focuses on implementing <b>Logistic Regression (LR)</b> from scratch.\n",
    "Although there are many frameworks that allow implementing linear regression algorithm in a few lines of code, implementing the algorithm from scratch helps one to better understand its inner workings."
   ]
  },
  {
   "cell_type": "markdown",
   "id": "67f9e236-8e5d-49c7-905a-a38b5d4973b0",
   "metadata": {},
   "source": [
    "For a tutorial on <b>Linear</b> regression from scratch in python, please see this <a href=\"https://github.com/preguza/linear_regression_from_scratch_in_python\"> notebook</a>."
   ]
  },
  {
   "cell_type": "markdown",
   "id": "de0297ce-e276-4606-85e3-2c3629d79993",
   "metadata": {},
   "source": [
    "The objective of this notebook is to predict whether or not a patient has diabetes, based on certain diagnostic measurements included in the dataset. \n",
    "\n",
    "This is a standard supervised classification task:\n",
    "- <b>Supervised</b> - the training data is `labeled` i.e. the algorithm knows the selling price of the houses included in the training data;\n",
    "- <b>Classification</b> - the algorithm will predict a discrete label."
   ]
  },
  {
   "cell_type": "code",
   "execution_count": 44,
   "id": "38475d39-6207-4f8e-81f6-5a60f9d1ebec",
   "metadata": {},
   "outputs": [],
   "source": [
    "# IMPORTS\n",
    "\n",
    "# Pandas is a wide used library for data manipulations.\n",
    "import pandas as pd    \n",
    "\n",
    "# Used for spliting the dataset\n",
    "from sklearn.model_selection import train_test_split \n",
    "\n",
    "# Used for scaling inputs\n",
    "from sklearn.preprocessing import MinMaxScaler\n",
    "\n",
    "# Used for calculating accuracy \n",
    "from sklearn.metrics import accuracy_score\n",
    "\n",
    "# Great library for linear algebra operations\n",
    "import numpy as np             \n",
    "\n",
    "# Suppres scientific notation in numpy\n",
    "np.set_printoptions(suppress=True)     \n",
    "\n",
    "# Library used for data visualization\n",
    "import matplotlib.pyplot as plt"
   ]
  },
  {
   "cell_type": "markdown",
   "id": "e87eae1a-a2d7-437a-9083-022444f3e22a",
   "metadata": {},
   "source": [
    "# <b>Dataset</b>"
   ]
  },
  {
   "cell_type": "markdown",
   "id": "32687883-5d1d-4b9a-881b-0bd38d21c39e",
   "metadata": {},
   "source": [
    "The training dataset consists of:\n",
    "- Input variables, also called <b>features</b>:\n",
    ">- Glucose  - Plasma glucose concentration a 2 hours in an oral glucose tolerance test;\n",
    ">- BMI - Body mass index (weight in kg/(height in m)^2);\n",
    ">- Age - Age (years);\n",
    "- Labels: \n",
    ">- Outcome - Class variable (0 or 1) indicating wether or not a patient has diabetes."
   ]
  },
  {
   "cell_type": "code",
   "execution_count": 45,
   "id": "d407cf8f-7084-4323-a7b0-2e2f8864fdf5",
   "metadata": {},
   "outputs": [],
   "source": [
    "# Read the dataset from the file\n",
    "dataset = pd.read_csv(\"./Data/diabetes_small.csv\")"
   ]
  },
  {
   "cell_type": "code",
   "execution_count": 46,
   "id": "5a4bd0c2-90ca-41df-b431-8980aecb01e5",
   "metadata": {},
   "outputs": [
    {
     "data": {
      "text/html": [
       "<div>\n",
       "<style scoped>\n",
       "    .dataframe tbody tr th:only-of-type {\n",
       "        vertical-align: middle;\n",
       "    }\n",
       "\n",
       "    .dataframe tbody tr th {\n",
       "        vertical-align: top;\n",
       "    }\n",
       "\n",
       "    .dataframe thead th {\n",
       "        text-align: right;\n",
       "    }\n",
       "</style>\n",
       "<table border=\"1\" class=\"dataframe\">\n",
       "  <thead>\n",
       "    <tr style=\"text-align: right;\">\n",
       "      <th></th>\n",
       "      <th>Glucose</th>\n",
       "      <th>BMI</th>\n",
       "      <th>Age</th>\n",
       "      <th>Outcome</th>\n",
       "    </tr>\n",
       "  </thead>\n",
       "  <tbody>\n",
       "    <tr>\n",
       "      <th>0</th>\n",
       "      <td>148</td>\n",
       "      <td>33.6</td>\n",
       "      <td>50</td>\n",
       "      <td>1</td>\n",
       "    </tr>\n",
       "    <tr>\n",
       "      <th>1</th>\n",
       "      <td>85</td>\n",
       "      <td>26.6</td>\n",
       "      <td>31</td>\n",
       "      <td>0</td>\n",
       "    </tr>\n",
       "    <tr>\n",
       "      <th>2</th>\n",
       "      <td>183</td>\n",
       "      <td>23.3</td>\n",
       "      <td>32</td>\n",
       "      <td>1</td>\n",
       "    </tr>\n",
       "    <tr>\n",
       "      <th>3</th>\n",
       "      <td>89</td>\n",
       "      <td>28.1</td>\n",
       "      <td>21</td>\n",
       "      <td>0</td>\n",
       "    </tr>\n",
       "    <tr>\n",
       "      <th>4</th>\n",
       "      <td>137</td>\n",
       "      <td>43.1</td>\n",
       "      <td>33</td>\n",
       "      <td>1</td>\n",
       "    </tr>\n",
       "  </tbody>\n",
       "</table>\n",
       "</div>"
      ],
      "text/plain": [
       "   Glucose   BMI  Age  Outcome\n",
       "0      148  33.6   50        1\n",
       "1       85  26.6   31        0\n",
       "2      183  23.3   32        1\n",
       "3       89  28.1   21        0\n",
       "4      137  43.1   33        1"
      ]
     },
     "execution_count": 46,
     "metadata": {},
     "output_type": "execute_result"
    }
   ],
   "source": [
    "# View top 5 rows of the dataset\n",
    "dataset.head()"
   ]
  },
  {
   "cell_type": "code",
   "execution_count": 47,
   "id": "5895808b-2228-4648-b812-eaca80fe000a",
   "metadata": {},
   "outputs": [
    {
     "data": {
      "text/plain": [
       "(500, 4)"
      ]
     },
     "execution_count": 47,
     "metadata": {},
     "output_type": "execute_result"
    }
   ],
   "source": [
    "# Veiw number of rows and columns\n",
    "dataset.shape"
   ]
  },
  {
   "cell_type": "markdown",
   "id": "080405e3-964c-46d6-8c85-6e7f134eaa35",
   "metadata": {},
   "source": [
    "We split the data in features and labels"
   ]
  },
  {
   "cell_type": "code",
   "execution_count": 48,
   "id": "16d416e5-474a-44a4-890f-79aae6ca54d4",
   "metadata": {},
   "outputs": [
    {
     "data": {
      "text/html": [
       "<div>\n",
       "<style scoped>\n",
       "    .dataframe tbody tr th:only-of-type {\n",
       "        vertical-align: middle;\n",
       "    }\n",
       "\n",
       "    .dataframe tbody tr th {\n",
       "        vertical-align: top;\n",
       "    }\n",
       "\n",
       "    .dataframe thead th {\n",
       "        text-align: right;\n",
       "    }\n",
       "</style>\n",
       "<table border=\"1\" class=\"dataframe\">\n",
       "  <thead>\n",
       "    <tr style=\"text-align: right;\">\n",
       "      <th></th>\n",
       "      <th>Glucose</th>\n",
       "      <th>BMI</th>\n",
       "      <th>Age</th>\n",
       "    </tr>\n",
       "  </thead>\n",
       "  <tbody>\n",
       "    <tr>\n",
       "      <th>0</th>\n",
       "      <td>148</td>\n",
       "      <td>33.6</td>\n",
       "      <td>50</td>\n",
       "    </tr>\n",
       "    <tr>\n",
       "      <th>1</th>\n",
       "      <td>85</td>\n",
       "      <td>26.6</td>\n",
       "      <td>31</td>\n",
       "    </tr>\n",
       "    <tr>\n",
       "      <th>2</th>\n",
       "      <td>183</td>\n",
       "      <td>23.3</td>\n",
       "      <td>32</td>\n",
       "    </tr>\n",
       "    <tr>\n",
       "      <th>3</th>\n",
       "      <td>89</td>\n",
       "      <td>28.1</td>\n",
       "      <td>21</td>\n",
       "    </tr>\n",
       "    <tr>\n",
       "      <th>4</th>\n",
       "      <td>137</td>\n",
       "      <td>43.1</td>\n",
       "      <td>33</td>\n",
       "    </tr>\n",
       "  </tbody>\n",
       "</table>\n",
       "</div>"
      ],
      "text/plain": [
       "   Glucose   BMI  Age\n",
       "0      148  33.6   50\n",
       "1       85  26.6   31\n",
       "2      183  23.3   32\n",
       "3       89  28.1   21\n",
       "4      137  43.1   33"
      ]
     },
     "execution_count": 48,
     "metadata": {},
     "output_type": "execute_result"
    }
   ],
   "source": [
    "X = dataset.drop(\"Outcome\", axis=1)\n",
    "X.head()"
   ]
  },
  {
   "cell_type": "code",
   "execution_count": 49,
   "id": "a19d8f4c-0d08-4f1e-8fa9-ac222a4d6aa7",
   "metadata": {},
   "outputs": [
    {
     "data": {
      "text/plain": [
       "0    1\n",
       "1    0\n",
       "2    1\n",
       "3    0\n",
       "4    1\n",
       "Name: Outcome, dtype: int64"
      ]
     },
     "execution_count": 49,
     "metadata": {},
     "output_type": "execute_result"
    }
   ],
   "source": [
    "Y = dataset.Outcome\n",
    "Y.head()"
   ]
  },
  {
   "cell_type": "markdown",
   "id": "abb7773a-0005-4a50-b84e-ab6a7ab09d03",
   "metadata": {},
   "source": [
    "<b><u>Input scaling</u></b>:"
   ]
  },
  {
   "cell_type": "code",
   "execution_count": 50,
   "id": "5b8c5d7f-d9d2-46e9-a734-0692561a1132",
   "metadata": {},
   "outputs": [],
   "source": [
    "feature_scaler = MinMaxScaler()\n",
    "feature_scaler.fit(X)\n",
    "X = feature_scaler.transform(X)"
   ]
  },
  {
   "cell_type": "code",
   "execution_count": 51,
   "id": "14d4ef88-7ce6-4ce1-8c85-7cec4b6c965c",
   "metadata": {},
   "outputs": [],
   "source": [
    "label_scaler = MinMaxScaler()\n",
    "label_scaler.fit(Y.to_numpy().reshape(-1,1))\n",
    "Y = label_scaler.transform(Y.to_numpy().reshape(-1,1))"
   ]
  },
  {
   "cell_type": "markdown",
   "id": "03b373a5-77c7-4c2d-9f35-fd474ec623ac",
   "metadata": {},
   "source": [
    "<b><u>Train/test split</u></b>:"
   ]
  },
  {
   "cell_type": "markdown",
   "id": "8934b143-5a71-4df2-9b54-e9b394cb4f39",
   "metadata": {},
   "source": [
    "We split data in training data and test data. \n",
    "\n",
    "We need test data because we want to check how the algorithm performs on previously unseen data."
   ]
  },
  {
   "cell_type": "code",
   "execution_count": 52,
   "id": "0656e80a-8fa1-430b-83cc-0bd06639ba2a",
   "metadata": {},
   "outputs": [],
   "source": [
    "x_train, x_test, y_train, y_test = train_test_split(X, Y, test_size=0.2, random_state=10)"
   ]
  },
  {
   "cell_type": "code",
   "execution_count": 53,
   "id": "fabe3d74-a687-4839-9eee-3a3c123c3453",
   "metadata": {},
   "outputs": [
    {
     "data": {
      "text/plain": [
       "((400, 3), (100, 3), (400, 1), (100, 1))"
      ]
     },
     "execution_count": 53,
     "metadata": {},
     "output_type": "execute_result"
    }
   ],
   "source": [
    "x_train.shape, x_test.shape, y_train.shape, y_test.shape"
   ]
  },
  {
   "cell_type": "markdown",
   "id": "2523255a-91c2-4cae-84a1-7f1461bd7790",
   "metadata": {},
   "source": [
    "# <b> Theory"
   ]
  },
  {
   "cell_type": "markdown",
   "id": "4600b94e-ed5c-4bf1-a9fb-ea555dcc2a56",
   "metadata": {},
   "source": [
    "First, we have to decide how we are going to represent the hypothesis function used to predict Y (i.e. whether a patient has diabetes)."
   ]
  },
  {
   "cell_type": "markdown",
   "id": "ebca500c-e28a-410d-be31-4575907dff71",
   "metadata": {},
   "source": [
    "For the purpose of this notebook we will use the following function:"
   ]
  },
  {
   "cell_type": "markdown",
   "id": "96770c9a-24c0-439b-90e4-b08aeb3efe44",
   "metadata": {},
   "source": [
    "$ h_{\\theta}(x) = g( \\theta_{0} + \\theta_{1}x_{1} + \\theta_{2}x_{2} + \\theta_{3}x_{3}) $;\n",
    "<br> \n",
    "- where $x_{i}$ represent the features:\n",
    ">- $x_{1}$ - Glucose\n",
    ">- $x_{2}$ - BMI\n",
    ">- $x_{3}$ - Age\n",
    "- $\\theta_{i}$`s represent the <b>parameters</b> (also called <b>weights</b>) parameterizing the\n",
    "space of linear functions mapping from $X$ to $Y$.\n",
    "- $g(z)$ - is caleed the logistic function, sometimes also refered as sigmoid function.\n",
    ">- $g(z) = \\frac {1}{1+e^{-z}}$\n"
   ]
  },
  {
   "cell_type": "markdown",
   "id": "5da152d0-0667-4962-be39-4fb9a5b9dad5",
   "metadata": {},
   "source": [
    "To simplify the  notation, we introduce the convention of letting $x_0$ = 1:"
   ]
  },
  {
   "cell_type": "markdown",
   "id": "ba2b52c6-326b-491c-a6e8-678eae2e57a1",
   "metadata": {},
   "source": [
    "$ h(x) =g( \\sum\\limits _{j=1} ^{p}{\\theta_{i}x_{i}} )= g(\\theta^{T}x$)"
   ]
  },
  {
   "cell_type": "code",
   "execution_count": 54,
   "id": "c311dec1-d0bb-41cc-af6e-9b50208dbc89",
   "metadata": {},
   "outputs": [],
   "source": [
    "# Add a column x_0 = 1\n",
    "x_train = np.append(np.ones((400,1)), x_train, axis=1)\n",
    "x_test = np.append(np.ones((100,1)), x_test, axis=1)"
   ]
  },
  {
   "cell_type": "markdown",
   "id": "c443a3f3-138f-4d12-b412-8e4663be96e4",
   "metadata": {},
   "source": [
    "Equation for updating parameters $\\theta$ is the same as in Linear Regression, the difference being that $h_{\\theta}(x)$ has a diferent formula:"
   ]
  },
  {
   "cell_type": "markdown",
   "id": "89834daf-71cd-4f68-8ef2-65dd38cfd253",
   "metadata": {},
   "source": [
    "$\\theta_{j}:=\\theta_{j} + \\alpha(y^{(i)} - h(x^{(i)}))x_{j}^{(i)}$ (for every $j$)"
   ]
  },
  {
   "cell_type": "markdown",
   "id": "b392eddd-c8c8-49e7-ae15-c888b434bd45",
   "metadata": {},
   "source": [
    "$\\alpha$ is called <b>learning rate</b> and allows us to configure how significant are the changes applied to $\\theta$."
   ]
  },
  {
   "cell_type": "markdown",
   "id": "e897935e-5598-4a32-b6cc-af0b9087945e",
   "metadata": {},
   "source": [
    "# <b> Code </b>"
   ]
  },
  {
   "cell_type": "code",
   "execution_count": 75,
   "id": "3a0fe4e5-75f4-48a7-aebb-4b32b6f40797",
   "metadata": {},
   "outputs": [
    {
     "data": {
      "text/plain": [
       "[<matplotlib.lines.Line2D at 0x7f75d4575340>]"
      ]
     },
     "execution_count": 75,
     "metadata": {},
     "output_type": "execute_result"
    },
    {
     "data": {
      "image/png": "[encoded data removed]",
      "text/plain": [
       "<Figure size 432x288 with 1 Axes>"
      ]
     },
     "metadata": {
      "needs_background": "light"
     },
     "output_type": "display_data"
    }
   ],
   "source": [
    "# Initalize theta with zeros\n",
    "theta = np.random.randn(4)\n",
    "\n",
    "# Hyperparameters\n",
    "alpha = 0.16             # Learning rate\n",
    "epochs = 10              # Number of epochs\n",
    "\n",
    "def sigmoid(z):\n",
    "    return (1 / (1 + np.exp(-z)))\n",
    "\n",
    "def h(x, theta):\n",
    "    return sigmoid(x@theta)\n",
    "\n",
    "# Variables used for visualizing cost\n",
    "all_costs = []\n",
    "\n",
    "for _ in range(epochs):\n",
    "    \n",
    "    all_costs.append(accuracy_score(y_train, h(x_train, theta).round()))\n",
    "\n",
    "    for i in range(len(x_train)):\n",
    "        x = x_train[i]\n",
    "        y = y_train[i]\n",
    "        h_x = h(x, theta)\n",
    "        theta = theta + alpha * (y - h_x)*x            \n",
    "    \n",
    "    \n",
    "    # Decrease learning rate as training progresses to help the algorithm to converge\n",
    "    if _ %4 == 0 : \n",
    "        alpha = alpha/2\n",
    "        \n",
    "    \n",
    "plt.plot(all_costs)"
   ]
  },
  {
   "cell_type": "markdown",
   "id": "7a940d31-7438-4ce9-8053-1fccd78dcde9",
   "metadata": {},
   "source": [
    "# <b> Epilogue</b>"
   ]
  },
  {
   "cell_type": "code",
   "execution_count": 76,
   "id": "c3ecfe37-95b8-4998-ac56-3ccc09617f38",
   "metadata": {},
   "outputs": [
    {
     "name": "stdout",
     "output_type": "stream",
     "text": [
      "Accuracy on test data, (i.e. previously unseen data):  0.77 %\n"
     ]
    }
   ],
   "source": [
    "print(\"Accuracy on test data, (i.e. previously unseen data): \",accuracy_score(y_test, h(x_test, theta).round()),\"%\" )"
   ]
  },
  {
   "cell_type": "markdown",
   "id": "c5948aa0-1d8a-4943-abb9-14349ec95739",
   "metadata": {},
   "source": [
    "As we have seen in this notebook, we were able to write from scratch an classification algorithm which helped us, using only 3 features, to identify wether somenone has diabetes with an accuracy 77% on the test data."
   ]
  },
  {
   "cell_type": "markdown",
   "id": "570fb589-87fb-4973-aaa5-3c0e4092f541",
   "metadata": {},
   "source": [
    "Thats all for this notebook. For an indepth introduction to <b>Machine Learning</b> and specifically <b>LR</b>  please see Andrew NG\\`s`lecture (<a href=\"https://www.youtube.com/watch?v=het9HFqo1TQ&list=PLoROMvodv4rMiGQp3WXShtMGgzqpfVfbU&index=3\">video</a>) and its notes (<a href=\"https://cs229.stanford.edu/notes2021fall/cs229-notes1.pdf\">.pdf</a>)."
   ]
  }
 ],
 "metadata": {
  "kernelspec": {
   "display_name": "Python 3 (ipykernel)",
   "language": "python",
   "name": "python3"
  },
  "language_info": {
   "codemirror_mode": {
    "name": "ipython",
    "version": 3
   },
   "file_extension": ".py",
   "mimetype": "text/x-python",
   "name": "python",
   "nbconvert_exporter": "python",
   "pygments_lexer": "ipython3",
   "version": "3.9.7"
  }
 },
 "nbformat": 4,
 "nbformat_minor": 5
}
